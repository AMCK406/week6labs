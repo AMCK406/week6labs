{
 "cells": [
  {
   "cell_type": "markdown",
   "id": "de966cb4-b0e1-49ff-8a9f-d12c69bdaab3",
   "metadata": {},
   "source": [
    "# Week 6 Independent Lab  \n",
    "### University of Montana | Masters of Science in Business Analytics  \n",
    "#### BGEN 632 | Alex McKenzie | April 7, 2025"
   ]
  },
  {
   "cell_type": "code",
   "execution_count": 1,
   "id": "a20527e5-5ab0-4215-87ad-23f258296ec7",
   "metadata": {},
   "outputs": [],
   "source": [
    "# Cell 1: Establishing and organizing data\n",
    "\n",
    "first_names = [\"Carmen\", \"Sydney\", \"Neil\", \"Marcus\"]\n",
    "last_names = [\"Berzatto\", \"Adamu\", \"Fak\", \"Brooks\"]\n",
    "majors = [\"Business Management\", \"Culinary Arts\", \"Hospitality\", \"Dessert Planning\"]\n",
    "gpas = [4.0, 3.8, 2.4, 3.9]\n",
    "academic_violations = [\"none\", \"none\",\"none\",\"none\"]\n",
    "academic_violations_options = [\"none\", \"copying homework\", \"cheating on exam\", \"plagiarism\", \"cheating on quiz\", \"writing paper for another student\"]"
   ]
  },
  {
   "cell_type": "markdown",
   "id": "dd628159-daf7-4c0d-b7c8-030d212d65c5",
   "metadata": {},
   "source": [
    "# Cell 2 [Draft]: Define each function: Student Information Query, Student Information Entry, GPA Metrics, Academic Violations\n",
    "\n",
    "### Note: This was the code I mostly wrote on my own; the block beginning at line 8 got an assist from ChatGPT.  \n",
    "\n",
    "def student_information_query():\n",
    "    query = input(\"Enter the first and last name of the student you're querying, or type 'All' to list all students: \")\n",
    "    if query.lower() == 'all':\n",
    "    else:\n",
    "\n",
    "def student_information_entry():\n",
    "    query = (print(\"To enter new students in the system, you will need their first name, last name, GPA, and academic major. \"))\n",
    "    first = input(\"Enter the new student's first name: \")\n",
    "    last = input(\"Enter the new student's last name: \")\n",
    "    major = input(\"Enter the new student's major: \")\n",
    "        def new_major():\n",
    "    query = (input(\"Please enter one of the following majors for the new student student: Business Management, Culinary Arts, Hospitality, Dessert Planning \"))\n",
    "    gpa = float(input(\"Enter the new student's GPA (0.0 - 4.0): \"))\n",
    "        def new_gpa():\n",
    "        gpa_value = float(input(\"Enter the student's GPA between 0.0 - 4.0: \"))\n",
    "        gpas.append(gpa_value)\n",
    "\n",
    "def query_gpa_metrics():\n",
    "    query = (input(\"Please enter your GPA query using the following commands: max, min, average \"))\n",
    "\n",
    "def query_academic_violations():\n",
    "    query = (input(\"To enter an academic violation, please enter the student's first and last name. You will then be prompted to select a academic violation for that student. \"))"
   ]
  },
  {
   "cell_type": "code",
   "execution_count": 2,
   "id": "a8aae267-84bf-48f5-8b38-23b4202045e4",
   "metadata": {},
   "outputs": [],
   "source": [
    "# Cell 2: Define each function: Student Information Query, Student Information Entry, GPA Metrics, Academic Violations\n",
    "\n",
    "def student_information_query():\n",
    "    query = input(\"Enter the first and last name of the student you're querying, or type 'All' to list all students: \")\n",
    "    if query.lower() == 'all':\n",
    "        for i in range(len(first_names)):\n",
    "            print(f\"{first_names[i]} {last_names[i]} - {majors[i]} - GPA: {gpas[i]} - Violation: {academic_violations[i]}\")\n",
    "    else:\n",
    "        found = False\n",
    "        for i in range(len(first_names)):\n",
    "            full_name = f\"{first_names[i]} {last_names[i]}\"\n",
    "            if query.lower() == full_name.lower():\n",
    "                print(f\"{full_name} - {majors[i]} - GPA: {gpas[i]} - Violation: {academic_violations[i]}\")\n",
    "                found = True\n",
    "        if not found:\n",
    "            print(\"Student not found.\")\n",
    "\n",
    "def student_information_entry():\n",
    "    print(\"To enter new students in the system, you will need their first name, last name, GPA, and academic major.\")\n",
    "    first = input(\"Enter the new student's first name: \")\n",
    "    last = input(\"Enter the new student's last name: \")\n",
    "    major = input(\"Enter the new student's major (choose from: Business Management, Culinary Arts, Hospitality, Dessert Planning): \")\n",
    "    gpa = float(input(\"Enter the new student's GPA (0.0 - 4.0): \"))\n",
    "    first_names.append(first)\n",
    "    last_names.append(last)\n",
    "    majors.append(major)\n",
    "    gpas.append(gpa)\n",
    "    academic_violations.append(\"none\")\n",
    "\n",
    "def query_gpa_metrics():\n",
    "    if gpas:\n",
    "        max_gpa = max(gpas)\n",
    "        min_gpa = min(gpas)\n",
    "        avg_gpa = sum(gpas) / len(gpas)\n",
    "        print(f\"Max GPA: {max_gpa}\")\n",
    "        print(f\"Min GPA: {min_gpa}\")\n",
    "        print(f\"Average GPA: {avg_gpa:.2f}\")\n",
    "    else:\n",
    "        print(\"No GPA data available.\")\n",
    "\n",
    "def query_academic_violations():\n",
    "    student_name = input(\"Enter the student's first and last name to assign an academic violation: \")\n",
    "    student_index = None\n",
    "    for i in range(len(first_names)):\n",
    "        full_name = f\"{first_names[i]} {last_names[i]}\"\n",
    "        if student_name.lower() == full_name.lower():\n",
    "            student_index = i\n",
    "            break\n",
    "    if student_index is None:\n",
    "        print(\"Student not found.\")\n",
    "        return\n",
    "    print(\"Available academic violation options:\")\n",
    "    for i in range(len(academic_violations_options)):\n",
    "        print(f\"{i}. {academic_violations_options[i]}\")\n",
    "    violation_choice = int(input(\"Select the number corresponding to the violation: \"))\n",
    "    if violation_choice < 0 or violation_choice >= len(academic_violations_options):\n",
    "        print(\"Invalid choice.\")\n",
    "    else:\n",
    "        academic_violations[student_index] = academic_violations_options[violation_choice]"
   ]
  },
  {
   "cell_type": "code",
   "execution_count": null,
   "id": "bab625d4-cf82-4dec-aedc-f3028c1aa24c",
   "metadata": {},
   "outputs": [
    {
     "name": "stdout",
     "output_type": "stream",
     "text": [
      "\n",
      "----- Student Management System Menu -----\n",
      "1. Student Information Query\n",
      "2. Student Information Entry\n",
      "3. Query GPA Metrics\n",
      "4. Academic Violations\n",
      "5. Quit Program\n"
     ]
    },
    {
     "name": "stdin",
     "output_type": "stream",
     "text": [
      "Enter your choice (1-5):  1\n",
      "Enter the first and last name of the student you're querying, or type 'All' to list all students:  All\n"
     ]
    },
    {
     "name": "stdout",
     "output_type": "stream",
     "text": [
      "Carmen Berzatto - Business Management - GPA: 4.0 - Violation: none\n",
      "Sydney Adamu - Culinary Arts - GPA: 3.8 - Violation: none\n",
      "Neil Fak - Hospitality - GPA: 2.4 - Violation: none\n",
      "Marcus Brooks - Dessert Planning - GPA: 3.9 - Violation: none\n",
      "\n",
      "----- Student Management System Menu -----\n",
      "1. Student Information Query\n",
      "2. Student Information Entry\n",
      "3. Query GPA Metrics\n",
      "4. Academic Violations\n",
      "5. Quit Program\n"
     ]
    },
    {
     "name": "stdin",
     "output_type": "stream",
     "text": [
      "Enter your choice (1-5):  1\n",
      "Enter the first and last name of the student you're querying, or type 'All' to list all students:  Neil Fak\n"
     ]
    },
    {
     "name": "stdout",
     "output_type": "stream",
     "text": [
      "Neil Fak - Hospitality - GPA: 2.4 - Violation: none\n",
      "\n",
      "----- Student Management System Menu -----\n",
      "1. Student Information Query\n",
      "2. Student Information Entry\n",
      "3. Query GPA Metrics\n",
      "4. Academic Violations\n",
      "5. Quit Program\n"
     ]
    },
    {
     "name": "stdin",
     "output_type": "stream",
     "text": [
      "Enter your choice (1-5):  1\n",
      "Enter the first and last name of the student you're querying, or type 'All' to list all students:  Carmen Berzatto\n"
     ]
    },
    {
     "name": "stdout",
     "output_type": "stream",
     "text": [
      "Carmen Berzatto - Business Management - GPA: 4.0 - Violation: none\n",
      "\n",
      "----- Student Management System Menu -----\n",
      "1. Student Information Query\n",
      "2. Student Information Entry\n",
      "3. Query GPA Metrics\n",
      "4. Academic Violations\n",
      "5. Quit Program\n"
     ]
    },
    {
     "name": "stdin",
     "output_type": "stream",
     "text": [
      "Enter your choice (1-5):  3\n"
     ]
    },
    {
     "name": "stdout",
     "output_type": "stream",
     "text": [
      "Max GPA: 4.0\n",
      "Min GPA: 2.4\n",
      "Average GPA: 3.52\n",
      "\n",
      "----- Student Management System Menu -----\n",
      "1. Student Information Query\n",
      "2. Student Information Entry\n",
      "3. Query GPA Metrics\n",
      "4. Academic Violations\n",
      "5. Quit Program\n"
     ]
    },
    {
     "name": "stdin",
     "output_type": "stream",
     "text": [
      "Enter your choice (1-5):  4\n",
      "Enter the student's first and last name to assign an academic violation:  Carmen Berzatto\n"
     ]
    },
    {
     "name": "stdout",
     "output_type": "stream",
     "text": [
      "Available academic violation options:\n",
      "0. none\n",
      "1. copying homework\n",
      "2. cheating on exam\n",
      "3. plagiarism\n",
      "4. cheating on quiz\n",
      "5. writing paper for another student\n"
     ]
    },
    {
     "name": "stdin",
     "output_type": "stream",
     "text": [
      "Select the number corresponding to the violation:  1\n"
     ]
    },
    {
     "name": "stdout",
     "output_type": "stream",
     "text": [
      "\n",
      "----- Student Management System Menu -----\n",
      "1. Student Information Query\n",
      "2. Student Information Entry\n",
      "3. Query GPA Metrics\n",
      "4. Academic Violations\n",
      "5. Quit Program\n"
     ]
    },
    {
     "name": "stdin",
     "output_type": "stream",
     "text": [
      "Enter your choice (1-5):  2\n"
     ]
    },
    {
     "name": "stdout",
     "output_type": "stream",
     "text": [
      "To enter new students in the system, you will need their first name, last name, GPA, and academic major.\n"
     ]
    },
    {
     "name": "stdin",
     "output_type": "stream",
     "text": [
      "Enter the new student's first name:  Alex\n",
      "Enter the new student's last name:  McKenzie\n",
      "Enter the new student's major (choose from: Business Management, Culinary Arts, Hospitality, Dessert Planning):  Business Management\n",
      "Enter the new student's GPA (0.0 - 4.0):  3.7\n"
     ]
    },
    {
     "name": "stdout",
     "output_type": "stream",
     "text": [
      "\n",
      "----- Student Management System Menu -----\n",
      "1. Student Information Query\n",
      "2. Student Information Entry\n",
      "3. Query GPA Metrics\n",
      "4. Academic Violations\n",
      "5. Quit Program\n"
     ]
    },
    {
     "name": "stdin",
     "output_type": "stream",
     "text": [
      "Enter your choice (1-5):  4\n",
      "Enter the student's first and last name to assign an academic violation:  Alex McKenzie\n"
     ]
    },
    {
     "name": "stdout",
     "output_type": "stream",
     "text": [
      "Available academic violation options:\n",
      "0. none\n",
      "1. copying homework\n",
      "2. cheating on exam\n",
      "3. plagiarism\n",
      "4. cheating on quiz\n",
      "5. writing paper for another student\n"
     ]
    },
    {
     "name": "stdin",
     "output_type": "stream",
     "text": [
      "Select the number corresponding to the violation:  5\n"
     ]
    },
    {
     "name": "stdout",
     "output_type": "stream",
     "text": [
      "\n",
      "----- Student Management System Menu -----\n",
      "1. Student Information Query\n",
      "2. Student Information Entry\n",
      "3. Query GPA Metrics\n",
      "4. Academic Violations\n",
      "5. Quit Program\n"
     ]
    },
    {
     "name": "stdin",
     "output_type": "stream",
     "text": [
      "Enter your choice (1-5):  1\n",
      "Enter the first and last name of the student you're querying, or type 'All' to list all students:  Alex McKenzie\n"
     ]
    },
    {
     "name": "stdout",
     "output_type": "stream",
     "text": [
      "Alex McKenzie - Business Management - GPA: 3.7 - Violation: writing paper for another student\n",
      "\n",
      "----- Student Management System Menu -----\n",
      "1. Student Information Query\n",
      "2. Student Information Entry\n",
      "3. Query GPA Metrics\n",
      "4. Academic Violations\n",
      "5. Quit Program\n"
     ]
    },
    {
     "name": "stdin",
     "output_type": "stream",
     "text": [
      "Enter your choice (1-5):  2\n"
     ]
    },
    {
     "name": "stdout",
     "output_type": "stream",
     "text": [
      "To enter new students in the system, you will need their first name, last name, GPA, and academic major.\n"
     ]
    },
    {
     "name": "stdin",
     "output_type": "stream",
     "text": [
      "Enter the new student's first name:  Wally\n",
      "Enter the new student's last name:  McKenzie\n",
      "Enter the new student's major (choose from: Business Management, Culinary Arts, Hospitality, Dessert Planning):  Culinary Arts\n",
      "Enter the new student's GPA (0.0 - 4.0):  4.0\n"
     ]
    },
    {
     "name": "stdout",
     "output_type": "stream",
     "text": [
      "\n",
      "----- Student Management System Menu -----\n",
      "1. Student Information Query\n",
      "2. Student Information Entry\n",
      "3. Query GPA Metrics\n",
      "4. Academic Violations\n",
      "5. Quit Program\n"
     ]
    },
    {
     "name": "stdin",
     "output_type": "stream",
     "text": [
      "Enter your choice (1-5):  4\n",
      "Enter the student's first and last name to assign an academic violation:  Wally McKenzie\n"
     ]
    },
    {
     "name": "stdout",
     "output_type": "stream",
     "text": [
      "Available academic violation options:\n",
      "0. none\n",
      "1. copying homework\n",
      "2. cheating on exam\n",
      "3. plagiarism\n",
      "4. cheating on quiz\n",
      "5. writing paper for another student\n"
     ]
    },
    {
     "name": "stdin",
     "output_type": "stream",
     "text": [
      "Select the number corresponding to the violation:  3\n"
     ]
    },
    {
     "name": "stdout",
     "output_type": "stream",
     "text": [
      "\n",
      "----- Student Management System Menu -----\n",
      "1. Student Information Query\n",
      "2. Student Information Entry\n",
      "3. Query GPA Metrics\n",
      "4. Academic Violations\n",
      "5. Quit Program\n"
     ]
    },
    {
     "name": "stdin",
     "output_type": "stream",
     "text": [
      "Enter your choice (1-5):  4\n",
      "Enter the student's first and last name to assign an academic violation:  Wally McKenzie\n"
     ]
    },
    {
     "name": "stdout",
     "output_type": "stream",
     "text": [
      "Available academic violation options:\n",
      "0. none\n",
      "1. copying homework\n",
      "2. cheating on exam\n",
      "3. plagiarism\n",
      "4. cheating on quiz\n",
      "5. writing paper for another student\n"
     ]
    },
    {
     "name": "stdin",
     "output_type": "stream",
     "text": [
      "Select the number corresponding to the violation:  5\n"
     ]
    },
    {
     "name": "stdout",
     "output_type": "stream",
     "text": [
      "\n",
      "----- Student Management System Menu -----\n",
      "1. Student Information Query\n",
      "2. Student Information Entry\n",
      "3. Query GPA Metrics\n",
      "4. Academic Violations\n",
      "5. Quit Program\n"
     ]
    },
    {
     "name": "stdin",
     "output_type": "stream",
     "text": [
      "Enter your choice (1-5):  1\n",
      "Enter the first and last name of the student you're querying, or type 'All' to list all students:  All\n"
     ]
    },
    {
     "name": "stdout",
     "output_type": "stream",
     "text": [
      "Carmen Berzatto - Business Management - GPA: 4.0 - Violation: copying homework\n",
      "Sydney Adamu - Culinary Arts - GPA: 3.8 - Violation: none\n",
      "Neil Fak - Hospitality - GPA: 2.4 - Violation: none\n",
      "Marcus Brooks - Dessert Planning - GPA: 3.9 - Violation: none\n",
      "Alex McKenzie - Business Management - GPA: 3.7 - Violation: writing paper for another student\n",
      "Wally McKenzie - Culinary Arts - GPA: 4.0 - Violation: writing paper for another student\n",
      "\n",
      "----- Student Management System Menu -----\n",
      "1. Student Information Query\n",
      "2. Student Information Entry\n",
      "3. Query GPA Metrics\n",
      "4. Academic Violations\n",
      "5. Quit Program\n"
     ]
    }
   ],
   "source": [
    "#### Cell 3: Development of menu navigation loop\n",
    "\n",
    "while True:\n",
    "    print(\"\\n----- Student Management System Menu -----\")\n",
    "    print(\"1. Student Information Query\")\n",
    "    print(\"2. Student Information Entry\")\n",
    "    print(\"3. Query GPA Metrics\")\n",
    "    print(\"4. Academic Violations\")\n",
    "    print(\"5. Quit Program\")\n",
    "    \n",
    "    choice = input(\"Enter your choice (1-5): \")\n",
    "    \n",
    "    if choice == \"1\":\n",
    "        student_information_query()\n",
    "    elif choice == \"2\":\n",
    "        student_information_entry()\n",
    "    elif choice == \"3\":\n",
    "        query_gpa_metrics()\n",
    "    elif choice == \"4\":\n",
    "        query_academic_violations()\n",
    "    elif choice == \"5\":\n",
    "        print(\"Exiting the program.\")\n",
    "        break\n",
    "    else:\n",
    "        print(\"Invalid choice. Please try again.\")"
   ]
  },
  {
   "cell_type": "markdown",
   "id": "26402085-7af5-4e5e-bad4-8e082c66069e",
   "metadata": {},
   "source": [
    "# References:\n",
    "\n",
    "### I used ChatGPT for this lab. I did most of the first cell, and about half of the second cell on my own. I let Sam Altman take the wheel with the third cell:\n",
    "\n",
    "https://drive.google.com/file/d/1eFXCcRzSA6OMVqtBUnfcemddeAcgNCSh/view?usp=sharing"
   ]
  }
 ],
 "metadata": {
  "kernelspec": {
   "display_name": "Python 3 (ipykernel)",
   "language": "python",
   "name": "python3"
  },
  "language_info": {
   "codemirror_mode": {
    "name": "ipython",
    "version": 3
   },
   "file_extension": ".py",
   "mimetype": "text/x-python",
   "name": "python",
   "nbconvert_exporter": "python",
   "pygments_lexer": "ipython3",
   "version": "3.12.7"
  }
 },
 "nbformat": 4,
 "nbformat_minor": 5
}
