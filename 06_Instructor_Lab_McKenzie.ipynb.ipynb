{
 "cells": [
  {
   "cell_type": "markdown",
   "id": "ef7698d2-5664-4c7a-8aaa-00df5d74a054",
   "metadata": {},
   "source": [
    "## Import Modules"
   ]
  },
  {
   "cell_type": "code",
   "execution_count": 9,
   "id": "cd28ea5e-0f95-40a1-97aa-6fbbd0bd0840",
   "metadata": {},
   "outputs": [],
   "source": [
    "import array as arr"
   ]
  },
  {
   "cell_type": "code",
   "execution_count": 10,
   "id": "3c79a881-96eb-42a4-86fc-668d05e9f00e",
   "metadata": {},
   "outputs": [],
   "source": [
    "import random as rand"
   ]
  },
  {
   "cell_type": "markdown",
   "id": "b2d3b304-9c9f-40c8-9746-2cdb549ad8ed",
   "metadata": {},
   "source": [
    "### I asked ChatGPT:  \n",
    "\n",
    "\"I need to structure those as an array. I know I'd start with the command \"import array as arr\", and follow with some variations of \"num_array = arr.array('i', [x, y, z])\", where x, y, and, z are the responses I gave you. Except they're not numbers, so what do I substitute for the num command?\"  \n",
    "\n",
    "It clarified my use of 'i' as specifically related to integers, and then guided me on the following:"
   ]
  },
  {
   "cell_type": "markdown",
   "id": "0735c812-13e7-4415-bc19-252cc69e83dd",
   "metadata": {},
   "source": [
    "## Create Variables"
   ]
  },
  {
   "cell_type": "code",
   "execution_count": 13,
   "id": "ef4fc2c4-df2a-4efe-923a-9dadc10a546f",
   "metadata": {},
   "outputs": [],
   "source": [
    "responses = [\"It is certain\",\n",
    "    \"It is decidedly so\",\n",
    "    \"That question requires greater monetary compensation\",\n",
    "    \"Reply is hazy; try again, with more money\",\n",
    "    \"Concentrate and ask again\",\n",
    "    \"My reply is no\",\n",
    "    \"Outlook is not so good\",\n",
    "    \"Very doubtful\",\n",
    "    \"Let's revisit after I've had some coffee\",\n",
    "    \"Let me check with my wife\",\n",
    "    \"I suggest you consult with a professional\"]\n",
    "\n",
    "question_asked = False # keep track of whether a question has been asked\n",
    "service_cost = 0.0 # keep trac of service cost\n",
    "\n",
    "questions = [] # the question asked by the customer\n",
    "responses = [] # the responses provided by the customer"
   ]
  },
  {
   "cell_type": "markdown",
   "id": "8e94ec92-ff69-486e-b1c5-ea9d975c3c74",
   "metadata": {},
   "source": [
    "## Create Nested Loop"
   ]
  },
  {
   "cell_type": "markdown",
   "id": "b82da819-dd19-43a5-8ccc-7f8b595979fa",
   "metadata": {},
   "source": [
    "LOOP WHILE TRUE\n",
    "> SET end service to FALSE\n",
    "> SET prompt text for first menu prompt\n",
    "> IF question asked\n",
    ">> SET prompt text for subsequent menu prompt\n",
    "\n",
    "> PRINT 1. Ask question 2. Review questions and responses 3. Complete services and pay\n",
    "> PROMPT for selection from menu\n",
    ">> IF selection from menu is 1\n",
    ">>> PRINT Ask what you seek to know\n",
    ">>> PROMPT and APPEND customer question to questions asked by customer\n",
    ">>> SET question asked to TRUE\n",
    ">>> GENERATE and SET random selection from fortune responses\n",
    ">>> APPEND question response to responses provided to customer\n",
    ">>> PRINT question response\n",
    ">>> SET service cost to service cost + 30.00\n",
    "\n",
    ">> ELSE IF selection from menu is 2\n",
    ">> ELSE IF selection from menu is 3\n",
    ">> ELSE\n",
    ">> IF end service\n",
    ">> BREAK"
   ]
  },
  {
   "cell_type": "code",
   "execution_count": null,
   "id": "5fbc1508-473b-40a7-841b-e66d781d778e",
   "metadata": {},
   "outputs": [],
   "source": [
    "# welcome new customer statement &#x1F52E;\n",
    "# while loop\n",
    "# if statement\n",
    "# elif statement\n",
    "# elif statement\n",
    "# else\n",
    "# if statement\n",
    "# jump statement"
   ]
  },
  {
   "cell_type": "markdown",
   "id": "3d5e6ff3-a521-4d1a-bdc9-30ad5b5bd035",
   "metadata": {},
   "source": [
    "# References\n",
    "\n",
    "### For the Instructor-led lab, I used ChatGPT sparingly:\n",
    "\n"
   ]
  },
  {
   "cell_type": "code",
   "execution_count": null,
   "id": "da95d666-15f8-4fd4-96a3-a586cf5a6a4e",
   "metadata": {},
   "outputs": [],
   "source": []
  }
 ],
 "metadata": {
  "kernelspec": {
   "display_name": "Python 3 (ipykernel)",
   "language": "python",
   "name": "python3"
  },
  "language_info": {
   "codemirror_mode": {
    "name": "ipython",
    "version": 3
   },
   "file_extension": ".py",
   "mimetype": "text/x-python",
   "name": "python",
   "nbconvert_exporter": "python",
   "pygments_lexer": "ipython3",
   "version": "3.12.7"
  }
 },
 "nbformat": 4,
 "nbformat_minor": 5
}
