{
 "cells": [
  {
   "cell_type": "markdown",
   "id": "ef7698d2-5664-4c7a-8aaa-00df5d74a054",
   "metadata": {},
   "source": [
    "## Import Modules"
   ]
  },
  {
   "cell_type": "markdown",
   "id": "b2d3b304-9c9f-40c8-9746-2cdb549ad8ed",
   "metadata": {},
   "source": [
    "### I asked ChatGPT:  \n",
    "\n",
    "\"I need to structure those as an array. I know I'd start with the command \"import array as arr\", and follow with some variations of \"num_array = arr.array('i', [x, y, z])\", where x, y, and, z are the responses I gave you. Except they're not numbers, so what do I substitute for the num command?\"  \n",
    "\n",
    "It clarified my use of 'i' as specifically related to integers, and then provided a code snippet, which I revised based on your lecture in block 20:"
   ]
  },
  {
   "cell_type": "markdown",
   "id": "0735c812-13e7-4415-bc19-252cc69e83dd",
   "metadata": {},
   "source": [
    "## Create Variables"
   ]
  },
  {
   "cell_type": "code",
   "execution_count": 1,
   "id": "ef4fc2c4-df2a-4efe-923a-9dadc10a546f",
   "metadata": {},
   "outputs": [],
   "source": [
    "responses = [\"It is certain\",\n",
    "    \"It is decidedly so\",\n",
    "    \"That question requires greater monetary compensation\",\n",
    "    \"Reply is hazy; try again, with more money\",\n",
    "    \"Concentrate and ask again\",\n",
    "    \"My reply is no\",\n",
    "    \"Outlook is not so good\",\n",
    "    \"Very doubtful\",\n",
    "    \"Let's revisit after I've had some coffee\",\n",
    "    \"Let me check with my wife\",\n",
    "    \"I suggest you consult with a professional\"]\n",
    "\n",
    "question_asked = False # keep track of whether a question has been asked\n",
    "service_cost = 0.0 # keep trac of service cost\n",
    "\n",
    "questions = [] # the question asked by the customer\n",
    "responses = [] # the responses provided by the customer"
   ]
  },
  {
   "cell_type": "markdown",
   "id": "8e94ec92-ff69-486e-b1c5-ea9d975c3c74",
   "metadata": {},
   "source": [
    "## Create Nested Loop"
   ]
  },
  {
   "cell_type": "markdown",
   "id": "b82da819-dd19-43a5-8ccc-7f8b595979fa",
   "metadata": {},
   "source": [
    "LOOP WHILE TRUE\n",
    "> SET end service to FALSE\n",
    "> SET prompt text for first menu prompt\n",
    "> IF question asked\n",
    ">> SET prompt text for subsequent menu prompt\n",
    "\n",
    "> PRINT 1. Ask question 2. Review questions and responses 3. Complete services and pay\n",
    "> PROMPT for selection from menu\n",
    ">> IF selection from menu is 1\n",
    ">>> PRINT Ask what you seek to know\n",
    ">>> PROMPT and APPEND customer question to questions asked by customer\n",
    ">>> SET question asked to TRUE\n",
    ">>> GENERATE and SET random selection from fortune responses\n",
    ">>> APPEND question response to responses provided to customer\n",
    ">>> PRINT question response\n",
    ">>> SET service cost to service cost + 30.00\n",
    "\n",
    ">> ELSE IF selection from menu is 2\n",
    ">> ELSE IF selection from menu is 3\n",
    ">> ELSE\n",
    ">> IF end service\n",
    ">> BREAK"
   ]
  },
  {
   "cell_type": "code",
   "execution_count": 2,
   "id": "d11b516e-8b4c-4746-b897-4a14ed5e85b1",
   "metadata": {},
   "outputs": [
    {
     "name": "stdout",
     "output_type": "stream",
     "text": [
      "Menu: 1. Ask question  2. Review questions and responses  3. Complete services and pay\n"
     ]
    },
    {
     "name": "stdin",
     "output_type": "stream",
     "text": [
      "Enter your selection (1, 2, or 3):  1\n"
     ]
    },
    {
     "name": "stdout",
     "output_type": "stream",
     "text": [
      "Ask what you seek to know:\n"
     ]
    },
    {
     "name": "stdin",
     "output_type": "stream",
     "text": [
      "Enter your question:  Are these Trump tariffs super awesome?\n"
     ]
    },
    {
     "name": "stdout",
     "output_type": "stream",
     "text": [
      "Response: Let me check with my wife\n",
      "\n",
      "Menu: 1. Ask another question  2. Review questions and responses  3. Complete services and pay\n"
     ]
    },
    {
     "name": "stdin",
     "output_type": "stream",
     "text": [
      "Enter your selection (1, 2, or 3):  1\n"
     ]
    },
    {
     "name": "stdout",
     "output_type": "stream",
     "text": [
      "Ask what you seek to know:\n"
     ]
    },
    {
     "name": "stdin",
     "output_type": "stream",
     "text": [
      "Enter your question:  Will Elon ever go to prison?\n"
     ]
    },
    {
     "name": "stdout",
     "output_type": "stream",
     "text": [
      "Response: Let me check with my wife\n",
      "\n",
      "Menu: 1. Ask another question  2. Review questions and responses  3. Complete services and pay\n"
     ]
    },
    {
     "name": "stdin",
     "output_type": "stream",
     "text": [
      "Enter your selection (1, 2, or 3):  1\n"
     ]
    },
    {
     "name": "stdout",
     "output_type": "stream",
     "text": [
      "Ask what you seek to know:\n"
     ]
    },
    {
     "name": "stdin",
     "output_type": "stream",
     "text": [
      "Enter your question:  Will I live past 80?\n"
     ]
    },
    {
     "name": "stdout",
     "output_type": "stream",
     "text": [
      "Response: Concentrate and ask again\n",
      "\n",
      "Menu: 1. Ask another question  2. Review questions and responses  3. Complete services and pay\n"
     ]
    },
    {
     "name": "stdin",
     "output_type": "stream",
     "text": [
      "Enter your selection (1, 2, or 3):  1\n"
     ]
    },
    {
     "name": "stdout",
     "output_type": "stream",
     "text": [
      "Ask what you seek to know:\n"
     ]
    },
    {
     "name": "stdin",
     "output_type": "stream",
     "text": [
      "Enter your question:  Does this python code make me look fat?\n"
     ]
    },
    {
     "name": "stdout",
     "output_type": "stream",
     "text": [
      "Response: That question requires greater monetary compensation\n",
      "\n",
      "Menu: 1. Ask another question  2. Review questions and responses  3. Complete services and pay\n"
     ]
    },
    {
     "name": "stdin",
     "output_type": "stream",
     "text": [
      "Enter your selection (1, 2, or 3):  2\n"
     ]
    },
    {
     "name": "stdout",
     "output_type": "stream",
     "text": [
      "Reviewing your questions and responses:\n",
      "1. Q: Are these Trump tariffs super awesome?\n",
      "   A: Let me check with my wife\n",
      "\n",
      "2. Q: Will Elon ever go to prison?\n",
      "   A: Let me check with my wife\n",
      "\n",
      "3. Q: Will I live past 80?\n",
      "   A: Concentrate and ask again\n",
      "\n",
      "4. Q: Does this python code make me look fat?\n",
      "   A: That question requires greater monetary compensation\n",
      "\n",
      "Menu: 1. Ask another question  2. Review questions and responses  3. Complete services and pay\n"
     ]
    },
    {
     "name": "stdin",
     "output_type": "stream",
     "text": [
      "Enter your selection (1, 2, or 3):  3\n"
     ]
    },
    {
     "name": "stdout",
     "output_type": "stream",
     "text": [
      "Completing services and processing payment...\n",
      "Total service cost: $120.00\n",
      "You asked 4 question(s).\n"
     ]
    }
   ],
   "source": [
    "import random as rand\n",
    "\n",
    "# Here we input our array of responses.\n",
    "fortune_responses = [\n",
    "    \"It is certain\",\n",
    "    \"It is decidedly so\",\n",
    "    \"That question requires greater monetary compensation\",\n",
    "    \"Reply is hazy; try again, with more money\",\n",
    "    \"Concentrate and ask again\",\n",
    "    \"My reply is no\",\n",
    "    \"Outlook is not so good\",\n",
    "    \"Very doubtful\",\n",
    "    \"Let's revisit after I've had some coffee\",\n",
    "    \"Let me check with my wife\",\n",
    "    \"I suggest you consult with a professional\"\n",
    "]\n",
    "\n",
    "# Here we're telling the program that if no questions are asked, do not record the input or response, and do not add any cost to the user's bill.\n",
    "question_asked = False\n",
    "service_cost = 0.0\n",
    "questions_asked = []\n",
    "responses_provided = []\n",
    "\n",
    "# Here we are telling the program: If a question hasn't been asked yet, give the user some options; if a question has been asked, prompt the user with a slightly different version of options.\n",
    "while True:\n",
    "    if not question_asked:\n",
    "        prompt_text = \"Menu: 1. Ask question  2. Review questions and responses  3. Complete services and pay\"\n",
    "    else:\n",
    "        prompt_text = \"Menu: 1. Ask another question  2. Review questions and responses  3. Complete services and pay\"\n",
    "    \n",
    "    print(prompt_text)\n",
    "\n",
    "# Here we tell the program to accept an integer as an input, with a prompt that specifies which integers it will accept, and the response to give if an undefined integer is provided.\n",
    "    try:\n",
    "        selection = int(input(\"Enter your selection (1, 2, or 3): \"))\n",
    "    except ValueError:\n",
    "        print(\"That is not an option. Please try again.\\n\")\n",
    "        continue\n",
    "\n",
    "# Through this next indented block, we are definining what happens for each integer 1, 2, and 3, as well as the response to give if the user inputs a different integer.\n",
    "    if selection == 1:\n",
    "        print(\"Ask what you seek to know:\")\n",
    "        customer_question = input(\"Enter your question: \")\n",
    "        questions_asked.append(customer_question)\n",
    "        question_asked = True\n",
    "\n",
    "        # Randomly select a response from the catalog\n",
    "        question_response = rand.choice(fortune_responses)\n",
    "        responses_provided.append(question_response)\n",
    "\n",
    "        print(\"Response: \" + question_response + \"\\n\")\n",
    "        service_cost += 30.00\n",
    "\n",
    "    elif selection == 2:\n",
    "        if not questions_asked:\n",
    "            print(\"No questions have been asked yet.\\n\")\n",
    "        else:\n",
    "            print(\"Reviewing your questions and responses:\")\n",
    "            for index, (q, r) in enumerate(zip(questions_asked, responses_provided), start=1):\n",
    "                print(f\"{index}. Q: {q}\")\n",
    "                print(f\"   A: {r}\\n\")\n",
    "\n",
    "    elif selection == 3:\n",
    "        print(\"Completing services and processing payment...\")\n",
    "        print(f\"Total service cost: ${service_cost:.2f}\")\n",
    "        print(f\"You asked {len(questions_asked)} question(s).\")\n",
    "        break\n",
    "\n",
    "    else:\n",
    "        print(\"That is not an option. Please try again.\\n\")\n"
   ]
  },
  {
   "cell_type": "markdown",
   "id": "3d5e6ff3-a521-4d1a-bdc9-30ad5b5bd035",
   "metadata": {
    "jp-MarkdownHeadingCollapsed": true
   },
   "source": [
    "# References\n",
    "\n",
    "### For the Instructor-led lab, I used ChatGPT. While it wrote a good chuck of my code -- note I had written some myself before revising with ChatGPT's output -- I've provided lots of inline commentary in the notebook to demonstrate my comprehension of the code:\n",
    "\n",
    "https://drive.google.com/file/d/1czIObaSzPzoxV-JRPlPEnF9pSqWaQ3MY/view?usp=sharing"
   ]
  }
 ],
 "metadata": {
  "kernelspec": {
   "display_name": "Python 3 (ipykernel)",
   "language": "python",
   "name": "python3"
  },
  "language_info": {
   "codemirror_mode": {
    "name": "ipython",
    "version": 3
   },
   "file_extension": ".py",
   "mimetype": "text/x-python",
   "name": "python",
   "nbconvert_exporter": "python",
   "pygments_lexer": "ipython3",
   "version": "3.12.7"
  }
 },
 "nbformat": 4,
 "nbformat_minor": 5
}
